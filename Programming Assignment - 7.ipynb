{
 "cells": [
  {
   "cell_type": "markdown",
   "metadata": {},
   "source": [
    "1. Write a Python Program to find sum of array?"
   ]
  },
  {
   "cell_type": "code",
   "execution_count": 1,
   "metadata": {},
   "outputs": [
    {
     "name": "stdout",
     "output_type": "stream",
     "text": [
      "sum of array [2, 5, 7, 9] = 23\n"
     ]
    }
   ],
   "source": [
    "arr = [2,5,7,9]\n",
    "print(f\"sum of array {arr} = {sum(arr)}\")"
   ]
  },
  {
   "cell_type": "markdown",
   "metadata": {},
   "source": [
    "2. Write a Python Program to find largest element in an array?"
   ]
  },
  {
   "cell_type": "code",
   "execution_count": 2,
   "metadata": {},
   "outputs": [
    {
     "name": "stdout",
     "output_type": "stream",
     "text": [
      "max number in array [2, 5, 7, 9] = 9\n"
     ]
    }
   ],
   "source": [
    "arr = [2,5,7,9]\n",
    "print(f\"max number in array {arr} = {max(arr)}\")"
   ]
  },
  {
   "cell_type": "markdown",
   "metadata": {},
   "source": [
    "3. Write a Python Program for array rotation?"
   ]
  },
  {
   "cell_type": "code",
   "execution_count": 3,
   "metadata": {},
   "outputs": [
    {
     "name": "stdout",
     "output_type": "stream",
     "text": [
      "rotation of array [2, 5, 7, 9] = [9, 7, 5, 2]\n"
     ]
    }
   ],
   "source": [
    "arr = [2,5,7,9]\n",
    "print(f\"rotation of array {arr} = {arr[::-1]}\")"
   ]
  },
  {
   "cell_type": "markdown",
   "metadata": {},
   "source": [
    "4. Write a Python Program to Split the array and add the first part to the end?"
   ]
  },
  {
   "cell_type": "code",
   "execution_count": 7,
   "metadata": {},
   "outputs": [
    {
     "name": "stdout",
     "output_type": "stream",
     "text": [
      "Parts of array [2, 5, 7, 9, 10, 12, 15, 30] after spliting from index 2:\n",
      "first part: [2, 5, 7]\n",
      "second part: [9, 10, 12, 15, 30]\n",
      "array after adding first part into the end of second: \n",
      "[9, 10, 12, 15, 30, 2, 5, 7]\n"
     ]
    }
   ],
   "source": [
    "arr = [2,5,7,9,10,12,15,30]\n",
    "split_index = 2\n",
    "first_part = arr[0:split_index+1]\n",
    "second_part = arr[split_index+1:]\n",
    "print(f\"Parts of array {arr} after spliting from index {split_index}:\")\n",
    "print(f\"first part: {first_part}\")\n",
    "print(f\"second part: {second_part}\")\n",
    "\n",
    "print(f\"array after adding first part into the end of second: \")\n",
    "second_part.extend(first_part)\n",
    "print(second_part)"
   ]
  },
  {
   "cell_type": "markdown",
   "metadata": {},
   "source": [
    "5. Write a Python Program to check if given array is Monotonic?\n",
    "\n",
    "An array is monotonic if it is either monotone increasing or monotone decreasing.\n",
    "An array A is monotone increasing if for all i <= j, A[i] <= A[j]. An array A is monotone decreasing if for all i <= j, A[i] >= A[j]."
   ]
  },
  {
   "cell_type": "code",
   "execution_count": 12,
   "metadata": {},
   "outputs": [
    {
     "name": "stdout",
     "output_type": "stream",
     "text": [
      "True\n",
      "False\n"
     ]
    }
   ],
   "source": [
    "def isMonoton(arr):\n",
    "    return (all([arr[i] <= arr[i+1] for i in range(len(arr)-1)]) or\n",
    "            all([arr[i] >= arr[i+1] for i in range(len(arr)-1)]))\n",
    "\n",
    "arr = [2,5,7,9]\n",
    "print(isMonoton(arr))\n",
    "\n",
    "arr = [2,5,3,9]\n",
    "print(isMonoton(arr))"
   ]
  },
  {
   "cell_type": "code",
   "execution_count": null,
   "metadata": {},
   "outputs": [],
   "source": []
  }
 ],
 "metadata": {
  "kernelspec": {
   "display_name": "Python 3",
   "language": "python",
   "name": "python3"
  },
  "language_info": {
   "codemirror_mode": {
    "name": "ipython",
    "version": 3
   },
   "file_extension": ".py",
   "mimetype": "text/x-python",
   "name": "python",
   "nbconvert_exporter": "python",
   "pygments_lexer": "ipython3",
   "version": "3.7.6"
  }
 },
 "nbformat": 4,
 "nbformat_minor": 4
}
