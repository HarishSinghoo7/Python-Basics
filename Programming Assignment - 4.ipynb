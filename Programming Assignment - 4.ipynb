{
 "cells": [
  {
   "cell_type": "markdown",
   "metadata": {},
   "source": [
    "__1. Write a Python Program to Find the Factorial of a Number?__"
   ]
  },
  {
   "cell_type": "code",
   "execution_count": 2,
   "metadata": {},
   "outputs": [
    {
     "data": {
      "text/plain": [
       "120"
      ]
     },
     "execution_count": 2,
     "metadata": {},
     "output_type": "execute_result"
    }
   ],
   "source": [
    "def getFactorial(n):\n",
    "    fact = 1\n",
    "    for i in range(2, n+1):\n",
    "        fact *= i\n",
    "    return fact\n",
    "\n",
    "getFactorial(5)"
   ]
  },
  {
   "cell_type": "markdown",
   "metadata": {},
   "source": [
    "__2. Write a Python Program to Display the multiplication Table?__"
   ]
  },
  {
   "cell_type": "code",
   "execution_count": 4,
   "metadata": {},
   "outputs": [
    {
     "name": "stdout",
     "output_type": "stream",
     "text": [
      "10 X 1 = 10\n",
      "10 X 2 = 20\n",
      "10 X 3 = 30\n",
      "10 X 4 = 40\n",
      "10 X 5 = 50\n",
      "10 X 6 = 60\n",
      "10 X 7 = 70\n",
      "10 X 8 = 80\n",
      "10 X 9 = 90\n",
      "10 X 10 = 100\n"
     ]
    }
   ],
   "source": [
    "def getMultiplicationTable(num, n=10):\n",
    "    for i in range(1, n+1):\n",
    "        print(f\"{num} X {i} = {num*i}\")\n",
    "        \n",
    "getMultiplicationTable(10)"
   ]
  },
  {
   "cell_type": "markdown",
   "metadata": {},
   "source": [
    "__3. Write a Python Program to Print the Fibonacci sequence?__"
   ]
  },
  {
   "cell_type": "code",
   "execution_count": 9,
   "metadata": {},
   "outputs": [
    {
     "name": "stdout",
     "output_type": "stream",
     "text": [
      "0, 1, 1, 2, 3, 5, 8, "
     ]
    }
   ],
   "source": [
    "def getFibonacci(n):\n",
    "    a = 0\n",
    "    b = 1\n",
    "    print(a, end=', ')\n",
    "    print(b, end=', ')\n",
    "    for i in range(n):\n",
    "        a, b = b, a+b\n",
    "        print(b, end=', ')\n",
    "        \n",
    "getFibonacci(5)"
   ]
  },
  {
   "cell_type": "markdown",
   "metadata": {},
   "source": [
    "__4. Write a Python Program to Check Armstrong Number?__"
   ]
  },
  {
   "cell_type": "code",
   "execution_count": 14,
   "metadata": {},
   "outputs": [
    {
     "name": "stdout",
     "output_type": "stream",
     "text": [
      "153 is an armstrong number\n"
     ]
    }
   ],
   "source": [
    "def isArmstrongNumber(num):\n",
    "    temp = 0\n",
    "    for i in str(num):\n",
    "        temp += int(i)**3\n",
    "    if temp == num:\n",
    "        print(f'{num} is an armstrong number')\n",
    "    else:\n",
    "        print(f'{num} is not an armstrong number')\n",
    "        \n",
    "\n",
    "isArmstrongNumber(153)"
   ]
  },
  {
   "cell_type": "markdown",
   "metadata": {},
   "source": [
    "__5. Write a Python Program to Find Armstrong Number in an Interval?__"
   ]
  },
  {
   "cell_type": "code",
   "execution_count": 22,
   "metadata": {},
   "outputs": [
    {
     "name": "stdout",
     "output_type": "stream",
     "text": [
      "153, 370, 371, 407, "
     ]
    }
   ],
   "source": [
    "def getArmstrongNumber(start, end):\n",
    "    for num in range(start, end):\n",
    "        temp = 0\n",
    "        for i in str(num):\n",
    "            temp += int(i)**3\n",
    "        if temp == num:\n",
    "            print(num, end=', ')\n",
    "                \n",
    "getArmstrongNumber(10, 10000)"
   ]
  },
  {
   "cell_type": "markdown",
   "metadata": {},
   "source": [
    "__6. Write a Python Program to Find the Sum of Natural Numbers?__"
   ]
  },
  {
   "cell_type": "code",
   "execution_count": 25,
   "metadata": {},
   "outputs": [
    {
     "name": "stdout",
     "output_type": "stream",
     "text": [
      "15\n"
     ]
    }
   ],
   "source": [
    "def naturalNumSum(n):\n",
    "    sum = 0\n",
    "    if(n<=0):\n",
    "        print('Enter a positive number')\n",
    "    for i in range(1, n+1):\n",
    "        sum += i\n",
    "    return sum\n",
    "\n",
    "result = naturalNumSum(5)\n",
    "print(result)"
   ]
  },
  {
   "cell_type": "code",
   "execution_count": null,
   "metadata": {},
   "outputs": [],
   "source": []
  }
 ],
 "metadata": {
  "kernelspec": {
   "display_name": "Python 3",
   "language": "python",
   "name": "python3"
  },
  "language_info": {
   "codemirror_mode": {
    "name": "ipython",
    "version": 3
   },
   "file_extension": ".py",
   "mimetype": "text/x-python",
   "name": "python",
   "nbconvert_exporter": "python",
   "pygments_lexer": "ipython3",
   "version": "3.7.6"
  }
 },
 "nbformat": 4,
 "nbformat_minor": 4
}
