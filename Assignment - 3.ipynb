{
 "cells": [
  {
   "cell_type": "markdown",
   "metadata": {},
   "source": [
    "__1. Why are functions advantageous to have in your programs?__\n",
    "\n",
    "__Ans :__ Function helps to write dry code we can reuse the code easily by just calling the function it makes the code short also because different-different functionalities can be incapsulated in different-different functions it makes it easy to understand."
   ]
  },
  {
   "cell_type": "markdown",
   "metadata": {},
   "source": [
    "__2. When does the code in a function run: when it's specified or when it's called?__\n",
    "\n",
    "__Ans :__ Function statements execute when when we call the function"
   ]
  },
  {
   "cell_type": "markdown",
   "metadata": {},
   "source": [
    "__3. What statement creates a function?__\n",
    "\n",
    "__Ans :__ The def statement defines the function\n",
    "\n",
    "<code> def function_name(): \n",
    "    def block statement</code>"
   ]
  },
  {
   "cell_type": "markdown",
   "metadata": {},
   "source": [
    "__4. What is the difference between a function and a function call?__\n",
    "\n",
    "__Ans :__ A function is a def statement which contains atleast 1 statement (def block statement).\n",
    "\n",
    "<code> def fun_name():\n",
    "    def block statements...</code>\n",
    "\n",
    "Function call start's the function execution and evaluate the function return value.\n",
    "\n",
    "<code>fun_name()</code>"
   ]
  },
  {
   "cell_type": "markdown",
   "metadata": {},
   "source": [
    "__5. How many global scopes are there in a Python program? How many local scopes?__\n",
    "\n",
    "__Ans :__ 1 global and 1 local scope is present in python program."
   ]
  },
  {
   "cell_type": "markdown",
   "metadata": {},
   "source": [
    "__6. What happens to variables in a local scope when the function call returns?__\n",
    "\n",
    "__Ans :__ After function returns, the local scope is distroyed and all the variables in it are forgotten."
   ]
  },
  {
   "cell_type": "markdown",
   "metadata": {},
   "source": [
    "__7. What is the concept of a return value? Is it possible to have a return value in an expression?__\n",
    "\n",
    "__Ans :__ Return value is a value that a function return after completing the execution. Yes return values can be used in an expression."
   ]
  },
  {
   "cell_type": "markdown",
   "metadata": {},
   "source": [
    "__8. If a function does not have a return statement, what is the return value of a call to that function?__\n",
    "\n",
    "__Ans :__ Default return value of any function is None"
   ]
  },
  {
   "cell_type": "markdown",
   "metadata": {},
   "source": [
    "__9. How do you make a function variable refer to the global variable?__\n",
    "\n",
    "__Ans :__ With global statement we can force a variable to refer the global variable in a function."
   ]
  },
  {
   "cell_type": "markdown",
   "metadata": {},
   "source": [
    "__10. What is the data type of None?__\n",
    "\n",
    "__Ans :__ NoneType"
   ]
  },
  {
   "cell_type": "markdown",
   "metadata": {},
   "source": [
    "__11. What does the sentence import areallyourpetsnamederic do?__\n",
    "\n",
    "__Ans :__ The import areallyourpetsnamederic statement will try to import the module named areallyourpetsnamederic and throw ModuleNotFoundError if module not present."
   ]
  },
  {
   "cell_type": "markdown",
   "metadata": {},
   "source": [
    "__12. If you had a bacon() feature in a spam module, what would you call it after importing spam?__\n",
    "\n",
    "__Ans :__ With spam.bacon() be can call the bacon()\n",
    "\n",
    "<code>import spam\n",
    "spam.bacon()</code>"
   ]
  },
  {
   "cell_type": "markdown",
   "metadata": {},
   "source": [
    "__13. What can you do to save a programme from crashing if it encounters an error?__\n",
    "\n",
    "__Ans :__ We put the code which can through error inside try block"
   ]
  },
  {
   "cell_type": "markdown",
   "metadata": {},
   "source": [
    "__14. What is the purpose of the try clause? What is the purpose of the except clause?__\n",
    "\n",
    "__Ans :__ The code which can through error on run time goes inside try block\n",
    "\n",
    "The code which we want to execute if encountered an error goes inside except block"
   ]
  },
  {
   "cell_type": "code",
   "execution_count": null,
   "metadata": {},
   "outputs": [],
   "source": []
  }
 ],
 "metadata": {
  "kernelspec": {
   "display_name": "Python 3",
   "language": "python",
   "name": "python3"
  },
  "language_info": {
   "codemirror_mode": {
    "name": "ipython",
    "version": 3
   },
   "file_extension": ".py",
   "mimetype": "text/x-python",
   "name": "python",
   "nbconvert_exporter": "python",
   "pygments_lexer": "ipython3",
   "version": "3.7.6"
  }
 },
 "nbformat": 4,
 "nbformat_minor": 4
}
