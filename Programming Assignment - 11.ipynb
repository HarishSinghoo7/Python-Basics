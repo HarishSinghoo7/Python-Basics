{
 "cells": [
  {
   "cell_type": "markdown",
   "metadata": {},
   "source": [
    "1. Write a Python program to find words which are greater than given length k?"
   ]
  },
  {
   "cell_type": "code",
   "execution_count": 1,
   "metadata": {},
   "outputs": [
    {
     "name": "stdout",
     "output_type": "stream",
     "text": [
      "min char length k = 5\n",
      "['Western', 'Chalukya', 'literature', 'Kannada', 'language', 'produced', 'during', \"empire's\", '(973–1200)', 'present-day', 'pictured).', 'Kannada', 'literature', 'period,', 'usually', 'considered', 'Kannada,', 'constituted', 'Chalukya', \"court's\", 'textual', 'production', 'pertained', 'mostly', 'socio-religious', 'development', 'faith,', 'Shaiva', 'faith.']\n"
     ]
    }
   ],
   "source": [
    "text = \"\"\"A large body of Western Chalukya literature in the Kannada language was produced during the empire's reign\n",
    "(973–1200) in present-day India (map pictured). Kannada literature from this period, usually considered Old Kannada, \n",
    "constituted the bulk of the Chalukya court's textual production and pertained mostly to the socio-religious development \n",
    "of the Jain faith, with some of that of the Shaiva faith.\"\"\"\n",
    "\n",
    "k = int(input(\"min char length k = \"))\n",
    "\n",
    "words = [word for word in text.split() if len(word) > k]\n",
    "print(words)"
   ]
  },
  {
   "cell_type": "markdown",
   "metadata": {},
   "source": [
    "2. Write a Python program for removing i-th character from a string?"
   ]
  },
  {
   "cell_type": "code",
   "execution_count": 3,
   "metadata": {},
   "outputs": [
    {
     "name": "stdout",
     "output_type": "stream",
     "text": [
      "i-th position = 3\n"
     ]
    },
    {
     "data": {
      "text/plain": [
       "'reoving'"
      ]
     },
     "execution_count": 3,
     "metadata": {},
     "output_type": "execute_result"
    }
   ],
   "source": [
    "text = \"removing\"\n",
    "\n",
    "ith = int(input(\"i-th position = \"))\n",
    "\n",
    "text.replace(text[ith-1], '', 1)"
   ]
  },
  {
   "cell_type": "markdown",
   "metadata": {},
   "source": [
    "3. Write a Python program to split and join a string?"
   ]
  },
  {
   "cell_type": "code",
   "execution_count": 4,
   "metadata": {},
   "outputs": [
    {
     "name": "stdout",
     "output_type": "stream",
     "text": [
      "['A', 'large', 'body', 'of', 'Western', 'Chalukya', 'literature', 'in', 'the', 'Kannada', 'language', 'was', 'produced', 'during', 'the', \"empire's\", 'reign', '(973–1200)', 'in', 'present-day', 'India', '(map', 'pictured).']\n",
      "A large body of Western Chalukya literature in the Kannada language was produced during the empire's reign (973–1200) in present-day India (map pictured).\n"
     ]
    }
   ],
   "source": [
    "text = \"\"\"A large body of Western Chalukya literature in the Kannada language was produced during the empire's reign\n",
    "(973–1200) in present-day India (map pictured).\"\"\"\n",
    "\n",
    "text_list = text.split()\n",
    "print(text_list)\n",
    "print(' '.join(text_list))"
   ]
  },
  {
   "cell_type": "markdown",
   "metadata": {},
   "source": [
    "4. Write a Python to check if a given string is binary string or not?"
   ]
  },
  {
   "cell_type": "code",
   "execution_count": 21,
   "metadata": {},
   "outputs": [
    {
     "name": "stdout",
     "output_type": "stream",
     "text": [
      "False\n",
      "True\n"
     ]
    }
   ],
   "source": [
    "def is_binary_text(text):\n",
    "    bin_val = {'0', '1'}\n",
    "    text = set(text)\n",
    "    if text == bin_val or text == '0' or text == '1':\n",
    "        return True\n",
    "    return False\n",
    "\n",
    "text = \"\"\"A large body of Western Chalukya literature in the Kannada language was produced during the empire's reign\n",
    "(973–1200) in present-day India (map pictured).\"\"\"\n",
    "\n",
    "print(is_binary_text(text))\n",
    "\n",
    "bin_text = '01100010101'\n",
    "\n",
    "print(is_binary_text(bin_text))"
   ]
  },
  {
   "cell_type": "markdown",
   "metadata": {},
   "source": [
    "5. Write a Python program to find uncommon words from two Strings?"
   ]
  },
  {
   "cell_type": "code",
   "execution_count": 24,
   "metadata": {},
   "outputs": [
    {
     "data": {
      "text/plain": [
       "{'it', 'on', 'programming', 'working'}"
      ]
     },
     "execution_count": 24,
     "metadata": {},
     "output_type": "execute_result"
    }
   ],
   "source": [
    "text1 = \"python programming is cool!\"\n",
    "text2 = \"working on python it is cool!\"\n",
    "\n",
    "text1 = set(text1.split())\n",
    "text2 = set(text2.split())\n",
    "\n",
    "text1.symmetric_difference(text2)"
   ]
  },
  {
   "cell_type": "markdown",
   "metadata": {},
   "source": [
    "6. Write a Python to find all duplicate characters in string?"
   ]
  },
  {
   "cell_type": "code",
   "execution_count": 31,
   "metadata": {},
   "outputs": [
    {
     "name": "stdout",
     "output_type": "stream",
     "text": [
      "p : 2\n",
      "o : 4\n",
      "n : 2\n",
      "  : 3\n",
      "r : 2\n",
      "g : 2\n",
      "m : 2\n",
      "i : 2\n"
     ]
    }
   ],
   "source": [
    "from collections import Counter\n",
    "\n",
    "text = \"python programming is cool!\"\n",
    "\n",
    "char_count = Counter(text)\n",
    "for char, count in char_count.items():\n",
    "    if count > 1:\n",
    "        print(f\"{char} : {count}\")"
   ]
  },
  {
   "cell_type": "markdown",
   "metadata": {},
   "source": [
    "7. Write a Python Program to check if a string contains any special character?"
   ]
  },
  {
   "cell_type": "code",
   "execution_count": 94,
   "metadata": {},
   "outputs": [
    {
     "name": "stdout",
     "output_type": "stream",
     "text": [
      "True\n",
      "False\n"
     ]
    }
   ],
   "source": [
    "import re\n",
    "\n",
    "def has_special_chars(textp):\n",
    "    if re.search(\"^[a-zA-Z0-9_ ]*$\", textp) == None:\n",
    "        return True\n",
    "    return False\n",
    "\n",
    "text1 = \"python # programming is cool!\"\n",
    "\n",
    "print(has_special_chars(text1))\n",
    "\n",
    "text2 = \"working on python it is cool\"\n",
    "print(has_special_chars(text2))"
   ]
  },
  {
   "cell_type": "code",
   "execution_count": null,
   "metadata": {},
   "outputs": [],
   "source": []
  }
 ],
 "metadata": {
  "kernelspec": {
   "display_name": "Python 3",
   "language": "python",
   "name": "python3"
  },
  "language_info": {
   "codemirror_mode": {
    "name": "ipython",
    "version": 3
   },
   "file_extension": ".py",
   "mimetype": "text/x-python",
   "name": "python",
   "nbconvert_exporter": "python",
   "pygments_lexer": "ipython3",
   "version": "3.7.6"
  }
 },
 "nbformat": 4,
 "nbformat_minor": 4
}
