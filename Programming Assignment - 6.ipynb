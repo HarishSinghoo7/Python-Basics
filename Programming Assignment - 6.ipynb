{
 "cells": [
  {
   "cell_type": "markdown",
   "metadata": {},
   "source": [
    "1. Write a Python Program to Display Fibonacci Sequence Using Recursion?"
   ]
  },
  {
   "cell_type": "code",
   "execution_count": 7,
   "metadata": {},
   "outputs": [
    {
     "name": "stdout",
     "output_type": "stream",
     "text": [
      "1, 1, 2, 3, 5, 8, 13, 21, 34, 55, "
     ]
    }
   ],
   "source": [
    "n = 10\n",
    "def rec_feb(n):\n",
    "    if n <= 1:\n",
    "        return n\n",
    "    return (rec_feb(n-1)+rec_feb(n-2))\n",
    "\n",
    "for i in range(1, n+1):\n",
    "    print(rec_feb(i), end=', ')"
   ]
  },
  {
   "cell_type": "markdown",
   "metadata": {},
   "source": [
    "2. Write a Python Program to Find Factorial of Number Using Recursion?"
   ]
  },
  {
   "cell_type": "code",
   "execution_count": 19,
   "metadata": {},
   "outputs": [
    {
     "name": "stdout",
     "output_type": "stream",
     "text": [
      "120\n"
     ]
    }
   ],
   "source": [
    "num = 5\n",
    "\n",
    "def fac_rec(n):\n",
    "    if n == 1:\n",
    "        return n\n",
    "    else:\n",
    "        return n*fac_rec(n-1)\n",
    "\n",
    "print(fac_rec(num))"
   ]
  },
  {
   "cell_type": "markdown",
   "metadata": {},
   "source": [
    "3. Write a Python Program to calculate your Body Mass Index?\n",
    "\n",
    "$ BMI = kg/m^2 $"
   ]
  },
  {
   "cell_type": "code",
   "execution_count": 28,
   "metadata": {},
   "outputs": [
    {
     "name": "stdout",
     "output_type": "stream",
     "text": [
      "Height in feet: 5.9\n",
      "weight in KG: 75\n",
      "BMI =  23.19\n"
     ]
    }
   ],
   "source": [
    "height = float(input('Height in feet: '))*0.3048 # convering height into meter\n",
    "weight = float(input('weight in KG: '))\n",
    "\n",
    "bmi = round(weight / (height**2), 2)\n",
    "print('BMI = ',bmi)"
   ]
  },
  {
   "cell_type": "markdown",
   "metadata": {},
   "source": [
    "4. Write a Python Program to calculate the natural logarithm of any number?"
   ]
  },
  {
   "cell_type": "code",
   "execution_count": 31,
   "metadata": {},
   "outputs": [
    {
     "name": "stdout",
     "output_type": "stream",
     "text": [
      "Number : 15\n",
      "Log of 15.0:  2.71\n"
     ]
    }
   ],
   "source": [
    "import math\n",
    "\n",
    "num = float(input('Number : '))\n",
    "print(f\"Log of {num}: \",round(math.log(num),2))"
   ]
  },
  {
   "cell_type": "markdown",
   "metadata": {},
   "source": [
    "5. Write a Python Program for cube sum of first n natural numbers?"
   ]
  },
  {
   "cell_type": "code",
   "execution_count": 36,
   "metadata": {},
   "outputs": [
    {
     "name": "stdout",
     "output_type": "stream",
     "text": [
      "n = 5\n",
      "Cubic sum of 5 numbers 55\n"
     ]
    }
   ],
   "source": [
    "n = int(input('n = '))\n",
    "\n",
    "def cube_sum(n):\n",
    "    if n == 1:\n",
    "        return n\n",
    "    else:\n",
    "        return n**2+cube_sum(n-1)\n",
    "print(f'Cubic sum of {n} numbers',cube_sum(n))"
   ]
  }
 ],
 "metadata": {
  "kernelspec": {
   "display_name": "Python 3",
   "language": "python",
   "name": "python3"
  },
  "language_info": {
   "codemirror_mode": {
    "name": "ipython",
    "version": 3
   },
   "file_extension": ".py",
   "mimetype": "text/x-python",
   "name": "python",
   "nbconvert_exporter": "python",
   "pygments_lexer": "ipython3",
   "version": "3.7.6"
  }
 },
 "nbformat": 4,
 "nbformat_minor": 4
}
