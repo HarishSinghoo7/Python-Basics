{
 "cells": [
  {
   "cell_type": "markdown",
   "metadata": {},
   "source": [
    "1. Write a Python program to check if the given number is a Disarium Number?\n",
    "\n",
    "A number is called Disarium if sum of its digits powered with their respective positions is equal to the number itself."
   ]
  },
  {
   "cell_type": "code",
   "execution_count": 25,
   "metadata": {},
   "outputs": [
    {
     "name": "stdout",
     "output_type": "stream",
     "text": [
      "True\n",
      "False\n"
     ]
    }
   ],
   "source": [
    "num = 10\n",
    "\n",
    "def is_disarium_number(num):\n",
    "    temp = 0\n",
    "    for i, val in enumerate(str(num)):\n",
    "        temp += int(val)**(i+1)\n",
    "        \n",
    "    return num == temp\n",
    "\n",
    "print(is_disarium_number(89))\n",
    "print(is_disarium_number(75))"
   ]
  },
  {
   "cell_type": "markdown",
   "metadata": {},
   "source": [
    "2. Write a Python program to print all disarium numbers between 1 to 100?"
   ]
  },
  {
   "cell_type": "code",
   "execution_count": 27,
   "metadata": {},
   "outputs": [
    {
     "name": "stdout",
     "output_type": "stream",
     "text": [
      "1, 2, 3, 4, 5, 6, 7, 8, 9, 89, "
     ]
    }
   ],
   "source": [
    "num = 10\n",
    "\n",
    "def is_disarium_number(num):\n",
    "    temp = 0\n",
    "    for i, val in enumerate(str(num)):\n",
    "        temp += int(val)**(i+1)\n",
    "        \n",
    "    return num == temp\n",
    "\n",
    "for i in range(1, 100):\n",
    "    if(is_disarium_number(i)):\n",
    "        print(i, end=', ')"
   ]
  },
  {
   "cell_type": "markdown",
   "metadata": {},
   "source": [
    "3. Write a Python program to check if the given number is Happy Number?\n",
    "\n",
    "A number is called happy if it leads to 1 after a sequence of steps wherein each step number is replaced by the sum of squares of its digit that is if we start with Happy Number and keep replacing it with digits square sum, we reach 1. "
   ]
  },
  {
   "cell_type": "code",
   "execution_count": 37,
   "metadata": {},
   "outputs": [
    {
     "name": "stdout",
     "output_type": "stream",
     "text": [
      "True\n",
      "False\n",
      "True\n"
     ]
    }
   ],
   "source": [
    "def square_sum(num):\n",
    "    sq_sum = 0\n",
    "    for i, val in enumerate(str(num)):\n",
    "        sq_sum += int(val)**2\n",
    "    return sq_sum\n",
    "\n",
    "def is_happy_number(num):\n",
    "    while True:\n",
    "        num = square_sum(num)\n",
    "        if num < 10:\n",
    "            break\n",
    "    return num == 1\n",
    "\n",
    "print(is_happy_number(13))\n",
    "print(is_happy_number(15))\n",
    "print(is_happy_number(19))"
   ]
  },
  {
   "cell_type": "markdown",
   "metadata": {},
   "source": [
    "4. Write a Python program to print all happy numbers between 1 and 100?"
   ]
  },
  {
   "cell_type": "code",
   "execution_count": 38,
   "metadata": {},
   "outputs": [
    {
     "name": "stdout",
     "output_type": "stream",
     "text": [
      "1, 7, 10, 13, 19, 23, 28, 31, 32, 44, 49, 68, 70, 79, 82, 86, 91, 94, 97, 100, "
     ]
    }
   ],
   "source": [
    "def square_sum(num):\n",
    "    sq_sum = 0\n",
    "    for i, val in enumerate(str(num)):\n",
    "        sq_sum += int(val)**2\n",
    "    return sq_sum\n",
    "\n",
    "def is_happy_number(num):\n",
    "    while True:\n",
    "        num = square_sum(num)\n",
    "        if num < 10:\n",
    "            break\n",
    "    return num == 1\n",
    "\n",
    "for i in range(1, 100+1):\n",
    "    if is_happy_number(i):\n",
    "        print(i, end=\", \")"
   ]
  },
  {
   "cell_type": "markdown",
   "metadata": {},
   "source": [
    "5. Write a Python program to determine whether the given number is a Harshad Number?\n",
    "\n",
    "An integer number in base 10 which is divisible by the sum of its digits is said to be a Harshad Number. An n-harshad number is an integer number divisible by the sum of its digit in base n."
   ]
  },
  {
   "cell_type": "code",
   "execution_count": 43,
   "metadata": {},
   "outputs": [
    {
     "name": "stdout",
     "output_type": "stream",
     "text": [
      "True\n",
      "False\n"
     ]
    }
   ],
   "source": [
    "def is_harshad_number(num):\n",
    "    digit_sum = 0\n",
    "    for val in str(num):\n",
    "        digit_sum += int(val)\n",
    "    if num % digit_sum == 0:\n",
    "        return True\n",
    "    return False\n",
    "\n",
    "print(is_harshad_number(18))\n",
    "print(is_harshad_number(15))"
   ]
  },
  {
   "cell_type": "markdown",
   "metadata": {},
   "source": [
    "6. Write a Python program to print all pronic numbers between 1 and 100?"
   ]
  },
  {
   "cell_type": "code",
   "execution_count": 44,
   "metadata": {},
   "outputs": [
    {
     "name": "stdout",
     "output_type": "stream",
     "text": [
      "1, 2, 3, 4, 5, 6, 7, 8, 9, 10, 12, 18, 20, 21, 24, 27, 30, 36, 40, 42, 45, 48, 50, 54, 60, 63, 70, 72, 80, 81, 84, 90, 100, "
     ]
    }
   ],
   "source": [
    "def is_harshad_number(num):\n",
    "    digit_sum = 0\n",
    "    for val in str(num):\n",
    "        digit_sum += int(val)\n",
    "    if num % digit_sum == 0:\n",
    "        return True\n",
    "    return False\n",
    "\n",
    "for i in range(1, 100+1):\n",
    "    if is_harshad_number(i):\n",
    "        print(i, end=\", \")"
   ]
  },
  {
   "cell_type": "code",
   "execution_count": null,
   "metadata": {},
   "outputs": [],
   "source": []
  }
 ],
 "metadata": {
  "kernelspec": {
   "display_name": "Python 3",
   "language": "python",
   "name": "python3"
  },
  "language_info": {
   "codemirror_mode": {
    "name": "ipython",
    "version": 3
   },
   "file_extension": ".py",
   "mimetype": "text/x-python",
   "name": "python",
   "nbconvert_exporter": "python",
   "pygments_lexer": "ipython3",
   "version": "3.7.6"
  }
 },
 "nbformat": 4,
 "nbformat_minor": 4
}
