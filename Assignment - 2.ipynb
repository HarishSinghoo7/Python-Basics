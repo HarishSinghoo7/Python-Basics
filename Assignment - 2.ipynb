{
 "cells": [
  {
   "cell_type": "markdown",
   "metadata": {},
   "source": [
    "__1.What are the two values of the Boolean data type? How do you write them?__\n",
    "\n",
    "__Ans :__ true and false are 2 values of boolean data types which we write as True and False."
   ]
  },
  {
   "cell_type": "markdown",
   "metadata": {},
   "source": [
    "__2. What are the three different types of Boolean operators?__\n",
    "\n",
    "__Ans :__ and(&), or(|), and not(!)"
   ]
  },
  {
   "cell_type": "markdown",
   "metadata": {},
   "source": [
    "__3. Make a list of each Boolean operator's truth tables (i.e. every possible combination of Boolean\n",
    "values for the operator and what it evaluate ).__\n",
    "__Ans :__\n",
    "\n",
    "$$ And\\ Truth\\ Table :$$\n",
    "\n",
    "| P | Q | P and Q |\n",
    "|---|---|---------|\n",
    "|True|True|True|\n",
    "|True|False|False|\n",
    "|False|True|False|\n",
    "|False|False|False|\n",
    "\n",
    "$$ OR\\ Truth\\ Table : $$\n",
    "\n",
    "| P | Q | P OR Q |\n",
    "|---|---|---------|\n",
    "|True|True|True|\n",
    "|True|False|True|\n",
    "|False|True|True|\n",
    "|False|False|False|\n",
    "\n",
    "$$ NOT\\ Truth\\ Table : $$\n",
    "\n",
    "| P | Not P |\n",
    "|---|-------|\n",
    "|True|False|\n",
    "|False|True|"
   ]
  },
  {
   "cell_type": "markdown",
   "metadata": {},
   "source": [
    "__4. What are the values of the following expressions?__\n",
    "1. (5 > 4) and (3 == 5)\n",
    "2. not (5 > 4)\n",
    "3. (5 > 4) or (3 == 5)\n",
    "4. not ((5 > 4) or (3 == 5))\n",
    "5. (True and True) and (True == False)\n",
    "6. (not False) or (not True)\n",
    "\n",
    "__Solution :__\n",
    "\n",
    "| Expression | Values |\n",
    "|-----|-----|\n",
    "|(5 > 4) and (3 == 5)| False |\n",
    "|not (5 > 4) | False |\n",
    "|(5 > 4) or (3 == 5) | True |\n",
    "|not ((5 > 4) or (3 == 5)) | False |\n",
    "|(True and True) and (True == False) | False |\n",
    "|(not False) or (not True) | True |"
   ]
  },
  {
   "cell_type": "markdown",
   "metadata": {},
   "source": [
    "__5. What are the six comparison operators?__\n",
    "\n",
    "__Ans :__\n",
    "\n",
    "1. Greater than (>)\n",
    "2. Smaller than (<)\n",
    "3. Equal (==)\n",
    "4. Not Equal (!=)\n",
    "5. Greater than equal (>=)\n",
    "6. Smaller than equal (<=)"
   ]
  },
  {
   "cell_type": "markdown",
   "metadata": {},
   "source": [
    "__6. How do you tell the difference between the equal to and assignment operators? Describe a condition and when you would use one.__\n",
    "\n",
    "__Ans :__ == is an equal to operator and it is used to compare the values and return a boolean value e.g. 3 == 4, a==b.\n",
    "\n",
    "Where as = is an assignment operator and used to store the value in variable e.g. a=4, b='Hello'\n"
   ]
  },
  {
   "cell_type": "markdown",
   "metadata": {},
   "source": [
    "__7. Identify the three blocks in this code:__\n",
    "\n",
    "<code>spam = 0\n",
    "if spam == 10:\n",
    "    print(&#39;eggs&#39;)\n",
    "if spam &gt; 5:\n",
    "    print(&#39;bacon&#39;)\n",
    "else:\n",
    "    print(&#39;ham&#39;)\n",
    "print(&#39;spam&#39;)\n",
    "print(&#39;spam&#39;)</code>\n",
    "\n",
    "__Ans :__ Three blocks are :\n",
    "1. <code>if spam == 10:\n",
    "    print(&#39;eggs&#39;)</code>\n",
    "2. <code>if spam &gt; 5:\n",
    "    print(&#39;bacon&#39;)</code>\n",
    "3. <code>else:\n",
    "    print(&#39;ham&#39;)</code>"
   ]
  },
  {
   "cell_type": "markdown",
   "metadata": {},
   "source": [
    "__8. Write code that prints Hello if 1 is stored in spam, prints Howdy if 2 is stored in spam, and prints Greetings! if anything else is stored in spam.__\n",
    "\n",
    "__Solution :__\n",
    "\n",
    "<code>if spam==1:\n",
    "        print('Hello')\n",
    "elif spam==2:\n",
    "    print('Howdy')\n",
    "else:\n",
    "    print('Greetings')</code>"
   ]
  },
  {
   "cell_type": "markdown",
   "metadata": {},
   "source": [
    "__9.If your programme is stuck in an endless loop, what keys you’ll press?__\n",
    "\n",
    "__Ans :__ CTRL + C"
   ]
  },
  {
   "cell_type": "markdown",
   "metadata": {},
   "source": [
    "__10. How can you tell the difference between break and continue?__\n",
    "\n",
    "__Ans :__ break statement is used to exit from a loop we can use break if we want to exit from a loop before it completes the execution based on some certain condition.\n",
    "\n",
    "continue statement is used when we want to stop the current iteration of the loop. It can be used when we don't want to run the loop block statements on some conditions."
   ]
  },
  {
   "cell_type": "markdown",
   "metadata": {},
   "source": [
    "__11. In a for loop, what is the difference between range(10), range(0, 10), and range(0, 10, 1)?__\n",
    "\n",
    "__Ans :__ By default start value is 0, step value is 1 so there is no difference between range(10), range(0, 10) and range (0, 10, 1) all will generate values from 0-9."
   ]
  },
  {
   "cell_type": "markdown",
   "metadata": {},
   "source": [
    "__12. Write a short program that prints the numbers 1 to 10 using a for loop. Then write an equivalent program that prints the numbers 1 to 10 using a while loop.__\n",
    "\n",
    "__Solution :__"
   ]
  },
  {
   "cell_type": "code",
   "execution_count": 4,
   "metadata": {},
   "outputs": [
    {
     "name": "stdout",
     "output_type": "stream",
     "text": [
      "1,2,3,4,5,6,7,8,9,10,"
     ]
    }
   ],
   "source": [
    "for i in range(1,11):\n",
    "    print(i, end=',')"
   ]
  },
  {
   "cell_type": "code",
   "execution_count": 11,
   "metadata": {},
   "outputs": [
    {
     "name": "stdout",
     "output_type": "stream",
     "text": [
      "1,2,3,4,5,6,7,8,9,10,"
     ]
    }
   ],
   "source": [
    "i = 1\n",
    "while i in range(1,11):\n",
    "    print(i, end=',')\n",
    "    i+=1"
   ]
  },
  {
   "cell_type": "markdown",
   "metadata": {},
   "source": [
    "__13. If you had a function named bacon() inside a module named spam, how would you call it after importing spam?__\n",
    "\n",
    "__Ans :__ \n",
    "\n",
    "<code>import spam\n",
    "spam.bacon()</code>"
   ]
  },
  {
   "cell_type": "code",
   "execution_count": null,
   "metadata": {},
   "outputs": [],
   "source": []
  }
 ],
 "metadata": {
  "kernelspec": {
   "display_name": "Python 3",
   "language": "python",
   "name": "python3"
  },
  "language_info": {
   "codemirror_mode": {
    "name": "ipython",
    "version": 3
   },
   "file_extension": ".py",
   "mimetype": "text/x-python",
   "name": "python",
   "nbconvert_exporter": "python",
   "pygments_lexer": "ipython3",
   "version": "3.7.6"
  }
 },
 "nbformat": 4,
 "nbformat_minor": 4
}
