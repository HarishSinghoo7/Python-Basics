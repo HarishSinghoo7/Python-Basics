{
 "cells": [
  {
   "cell_type": "markdown",
   "metadata": {},
   "source": [
    "1. Write a Python Program to Add Two Matrices?"
   ]
  },
  {
   "cell_type": "code",
   "execution_count": 3,
   "metadata": {},
   "outputs": [
    {
     "data": {
      "text/plain": [
       "array([[ 2,  4,  6],\n",
       "       [ 8, 10, 12]])"
      ]
     },
     "execution_count": 3,
     "metadata": {},
     "output_type": "execute_result"
    }
   ],
   "source": [
    "# By using numpy\n",
    "import numpy as np\n",
    "\n",
    "mat1 = np.array([[1,2,3],\n",
    "                 [4,5,6]])\n",
    "mat2 = np.array([[1,2,3],\n",
    "                 [4,5,6]])\n",
    "mat1+mat2"
   ]
  },
  {
   "cell_type": "code",
   "execution_count": 20,
   "metadata": {},
   "outputs": [
    {
     "data": {
      "text/plain": [
       "[[2, 4, 6], [8, 10, 12]]"
      ]
     },
     "execution_count": 20,
     "metadata": {},
     "output_type": "execute_result"
    }
   ],
   "source": [
    "# Without using numpy\n",
    "\n",
    "def mat_add(mat1, mat2):\n",
    "    new_mat = list()\n",
    "    for i in range(len(mat1)):\n",
    "        new_mat.append(list())\n",
    "        for j in range(len(mat1[i])):\n",
    "            new_mat[i].append(mat1[i][j]+mat2[i][j])\n",
    "    return new_mat\n",
    "\n",
    "mat1 = np.array([[1,2,3],\n",
    "                 [4,5,6]])\n",
    "mat2 = np.array([[1,2,3],\n",
    "                 [4,5,6]])\n",
    "\n",
    "mat_add(mat1, mat2)"
   ]
  },
  {
   "cell_type": "markdown",
   "metadata": {},
   "source": [
    "2. Write a Python Program to Multiply Two Matrices?"
   ]
  },
  {
   "cell_type": "code",
   "execution_count": 21,
   "metadata": {},
   "outputs": [
    {
     "data": {
      "text/plain": [
       "array([[ 1,  4,  9],\n",
       "       [16, 25, 36]])"
      ]
     },
     "execution_count": 21,
     "metadata": {},
     "output_type": "execute_result"
    }
   ],
   "source": [
    "# By using numpy\n",
    "import numpy as np\n",
    "\n",
    "mat1 = np.array([[1,2,3],\n",
    "                 [4,5,6]])\n",
    "mat2 = np.array([[1,2,3],\n",
    "                 [4,5,6]])\n",
    "mat1*mat2"
   ]
  },
  {
   "cell_type": "code",
   "execution_count": 26,
   "metadata": {},
   "outputs": [
    {
     "data": {
      "text/plain": [
       "[[1, 4, 9], [16, 25, 36]]"
      ]
     },
     "execution_count": 26,
     "metadata": {},
     "output_type": "execute_result"
    }
   ],
   "source": [
    "# Without using numpy\n",
    "\n",
    "def mat_mul(mat1, mat2):\n",
    "    new_mat = list()\n",
    "    for i in range(len(mat1)):\n",
    "        new_mat.append(list())\n",
    "        for j in range(len(mat1[i])):\n",
    "            new_mat[i].append(mat1[i][j]*mat2[i][j])\n",
    "    return new_mat\n",
    "\n",
    "mat1 = np.array([[1,2,3],\n",
    "                 [4,5,6]])\n",
    "mat2 = np.array([[1,2,3],\n",
    "                 [4,5,6]])\n",
    "\n",
    "mat_mul(mat1, mat2)"
   ]
  },
  {
   "cell_type": "markdown",
   "metadata": {},
   "source": [
    "3. Write a Python Program to Transpose a Matrix?"
   ]
  },
  {
   "cell_type": "code",
   "execution_count": 24,
   "metadata": {},
   "outputs": [
    {
     "data": {
      "text/plain": [
       "array([[1, 4],\n",
       "       [2, 5],\n",
       "       [3, 6]])"
      ]
     },
     "execution_count": 24,
     "metadata": {},
     "output_type": "execute_result"
    }
   ],
   "source": [
    "# By using numpy\n",
    "import numpy as np\n",
    "\n",
    "mat1 = np.array([[1,2,3],\n",
    "                 [4,5,6]])\n",
    "mat1.T"
   ]
  },
  {
   "cell_type": "code",
   "execution_count": 30,
   "metadata": {},
   "outputs": [
    {
     "data": {
      "text/plain": [
       "[[1, 4], [2, 5], [3, 6]]"
      ]
     },
     "execution_count": 30,
     "metadata": {},
     "output_type": "execute_result"
    }
   ],
   "source": [
    "# Without using numpy\n",
    "\n",
    "def mat_transpose(mat):\n",
    "    new_mat = list()\n",
    "    rows = len(mat)\n",
    "    cols = len(mat[0])\n",
    "    for i in range(cols):\n",
    "        new_mat.append(list())\n",
    "        for j in range(rows):\n",
    "            new_mat[i].append(mat[j][i])\n",
    "    return new_mat\n",
    "\n",
    "mat1 = np.array([[1,2,3],\n",
    "                 [4,5,6]])\n",
    "mat_transpose(mat1)"
   ]
  },
  {
   "cell_type": "markdown",
   "metadata": {},
   "source": [
    "4. Write a Python Program to Sort Words in Alphabetic Order?"
   ]
  },
  {
   "cell_type": "code",
   "execution_count": 32,
   "metadata": {},
   "outputs": [
    {
     "data": {
      "text/plain": [
       "'cool in is programming python'"
      ]
     },
     "execution_count": 32,
     "metadata": {},
     "output_type": "execute_result"
    }
   ],
   "source": [
    "str = \"programming in python is cool\"\n",
    "\n",
    "' '.join(sorted(str.split()))"
   ]
  },
  {
   "cell_type": "markdown",
   "metadata": {},
   "source": [
    "5. Write a Python Program to Remove Punctuation From a String?"
   ]
  },
  {
   "cell_type": "code",
   "execution_count": 46,
   "metadata": {},
   "outputs": [
    {
     "data": {
      "text/plain": [
       "'Hello world python programming is cool pythonprogram'"
      ]
     },
     "execution_count": 46,
     "metadata": {},
     "output_type": "execute_result"
    }
   ],
   "source": [
    "import re\n",
    "\n",
    "str1 = \"Hello world! python programming is cool! #python@program\"\n",
    "re.sub(\"[^\\w\\s]\", '', str1)"
   ]
  },
  {
   "cell_type": "code",
   "execution_count": null,
   "metadata": {},
   "outputs": [],
   "source": []
  }
 ],
 "metadata": {
  "kernelspec": {
   "display_name": "Python 3",
   "language": "python",
   "name": "python3"
  },
  "language_info": {
   "codemirror_mode": {
    "name": "ipython",
    "version": 3
   },
   "file_extension": ".py",
   "mimetype": "text/x-python",
   "name": "python",
   "nbconvert_exporter": "python",
   "pygments_lexer": "ipython3",
   "version": "3.7.6"
  }
 },
 "nbformat": 4,
 "nbformat_minor": 4
}
