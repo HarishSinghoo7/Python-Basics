{
 "cells": [
  {
   "cell_type": "markdown",
   "metadata": {},
   "source": [
    "__1 : In the below elements which of them are values or an expression? eg:- values can be integer or string and expressions will be mathematical operators.\n",
    "*, 'hello', -87.8, -, /, +, 6__\n",
    "\n",
    "__Solution :__\n",
    "\n",
    "1. *, -, /, + are Expressions\n",
    "2. 'hello', -87.8, 6 are values"
   ]
  },
  {
   "cell_type": "markdown",
   "metadata": {},
   "source": [
    "__2 : What is the difference between string and variable?__\n",
    "\n",
    "__Ans :__ \n",
    "\n",
    "__Strings :__ In programming Everything written inside the quotation are treated as strings. String can be alphabetic values, alpha numeric values, symbols or numeric values. e.g. - 'Hello', \"Hello 123\", '123' or \"abc@pqr\" all are valid string values.\n",
    "\n",
    "__Variables :__ Variables are like containers which holds the values assigned into it. We can update variables value by simply initializing new value into it. Basically variables holds the memory address where the assigned value present in memmory and when we call that variable it fetch the value from that memmory address.\n",
    "\n",
    "most of the programming languages like c,c++,java,.net we need to declare the variable type like int,float,string before assigning the values and variable can hold only declared type of values e.g. if we have created variable 'int a' that means a can hold only integer values but in some languages like python,php,javascript we don't need to declare the variable type we can put any value inside the variable.\n",
    "\n",
    "__Variable naming conventions :__\n",
    "1. Variable name's first letter must be alphabetic or _\n",
    "2. We can't use special character (symbols) except _\n",
    "3. Variable name can't make variable with key word names like class, def, for etc. Key words can deffer based on programming languages.\n",
    "4. We can use numeric values in variable name but first letter must be alphabetic or _\n",
    "15. Variable name can't have spaces in it."
   ]
  },
  {
   "cell_type": "markdown",
   "metadata": {},
   "source": [
    "__3 : Describe three different data types.__\n",
    "\n",
    "__Ans :__ 3 different data types are :-\n",
    "\n",
    "__1. Integer (int) :__ Integers are positive or negative whole numbers with no decimal point. e.g. 1,2,10,100,-20,-70.\n",
    "\n",
    "__2. Float (float) :__ Float represent real numbers and are written with a decimal point. Floats may also be in scientific notation, with E or e indicating the power of 10 (2.5e2 = 2.5 x 102 = 250).\n",
    "\n",
    "__3. Complex Number (complex):__ Complex numbers are represented as a+bj form where a is real part and b is imaginary part."
   ]
  },
  {
   "cell_type": "markdown",
   "metadata": {},
   "source": [
    "__4 : What is an expression made up of? What do all expressions do?__\n",
    "\n",
    "__Ans :__ An expression is a combination of values, variables, operators, and calls to functions. Expressions need to be evaluated. If we ask Python to print an expression, the interpreter evaluates the expression and displays the result."
   ]
  },
  {
   "cell_type": "markdown",
   "metadata": {},
   "source": [
    "__5. This assignment statements, like spam = 10. What is the difference between an expression and a statement?__\n",
    "\n",
    "__Ans :__ \n",
    "\n",
    "__Expression :__ An expression is a combination of values, variables, operators, and calls to functions. Expressions need to be evaluated. If we ask Python to print an expression, the interpreter evaluates the expression and displays the result.\n",
    "\n",
    "__Examples :__\n",
    "\n",
    "print(1 + 1), print(len(\"hello\"))\n",
    "\n",
    "__Statement :__ Instructions that a Python interpreter can execute are called statements. A statement is just a standalone unit of execution and doesn't return anything.\n",
    "\n",
    "__Examples :__\n",
    "\n",
    "a = 1, a+5, conditional statements (if, if-elif) or looping statements (for, while)"
   ]
  },
  {
   "cell_type": "markdown",
   "metadata": {},
   "source": [
    "__6. After running the following code, what does the variable bacon contain?__\n",
    "\n",
    "__bacon = 22__\n",
    "\n",
    "__bacon + 1__\n",
    "\n",
    "__Ans :__ bacon will contain 22 because with bacon+1 statement we are adding 1 value in bacon but we are not initializing or updating new value in bacon."
   ]
  },
  {
   "cell_type": "markdown",
   "metadata": {},
   "source": [
    "__7. What should the values of the following two terms be?__\n",
    "\n",
    "__'spam' + 'spamspam'__\n",
    "\n",
    "__'spam' * 3__\n",
    "\n",
    "__Ans :__ \n",
    "1. 'spam' + 'spamspam' == 'spamspamspam'\n",
    "2. 'spam' * 3 == 'spamspamspam'"
   ]
  },
  {
   "cell_type": "markdown",
   "metadata": {},
   "source": [
    "__8. Why is eggs a valid variable name while 100 is invalid?__\n",
    "\n",
    "__Ans :__ eggs are following all variable naming conventions its starting from alphabet, its not containing any special character and eggs is not a key word so its a valid variable name in other hand 100 is starting from numeric value that's why its an invalid variable name."
   ]
  },
  {
   "cell_type": "markdown",
   "metadata": {},
   "source": [
    "__9. What three functions can be used to get the integer, floating-point number, or string\n",
    "version of a value?__\n",
    "\n",
    "__Ans :__ \n",
    "1. for integer we use int()\n",
    "2. for floating-point number we use float()\n",
    "3. for string we use str()"
   ]
  },
  {
   "cell_type": "markdown",
   "metadata": {},
   "source": [
    "__10. Why does this expression cause an error? How can you fix it?__\n",
    "\n",
    "__'I have eaten ' + 99 + ' burritos.'__\n",
    "\n",
    "__Ans :__ Here 99 is numeric value and we can't perform addition operation between numeric and string value. To fix this statement we need to typecast the numeric value into string value.\n",
    "\n",
    "Correct statement will be\n",
    "\n",
    "'I have eaten ' + str(99) + ' burritos.'"
   ]
  },
  {
   "cell_type": "code",
   "execution_count": null,
   "metadata": {},
   "outputs": [],
   "source": []
  }
 ],
 "metadata": {
  "kernelspec": {
   "display_name": "Python 3",
   "language": "python",
   "name": "python3"
  },
  "language_info": {
   "codemirror_mode": {
    "name": "ipython",
    "version": 3
   },
   "file_extension": ".py",
   "mimetype": "text/x-python",
   "name": "python",
   "nbconvert_exporter": "python",
   "pygments_lexer": "ipython3",
   "version": "3.7.6"
  }
 },
 "nbformat": 4,
 "nbformat_minor": 4
}
