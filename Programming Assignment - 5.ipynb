{
 "cells": [
  {
   "cell_type": "markdown",
   "metadata": {},
   "source": [
    "__1. Write a Python Program to Find LCM?__"
   ]
  },
  {
   "cell_type": "code",
   "execution_count": 1,
   "metadata": {},
   "outputs": [
    {
     "name": "stdout",
     "output_type": "stream",
     "text": [
      "60.0\n"
     ]
    }
   ],
   "source": [
    "import math\n",
    "\n",
    "def getLCM(a, b):\n",
    "    return a*b / math.gcd(a, b)\n",
    "    \n",
    "print(getLCM(15, 20))"
   ]
  },
  {
   "cell_type": "markdown",
   "metadata": {},
   "source": [
    "__2. Write a Python Program to Find HCF?__"
   ]
  },
  {
   "cell_type": "code",
   "execution_count": 2,
   "metadata": {},
   "outputs": [
    {
     "name": "stdout",
     "output_type": "stream",
     "text": [
      "5\n"
     ]
    }
   ],
   "source": [
    "# import math\n",
    "# print(math.gcd(15, 20))\n",
    "\n",
    "def getHCF(a, b):\n",
    "    if a < b:\n",
    "        smaller = a\n",
    "    else:\n",
    "        smaller = b\n",
    "    for i in range(1, smaller+1):\n",
    "        if ((a%i == 0) and (b%i) == 0):\n",
    "            hcf = i\n",
    "    return hcf\n",
    "        \n",
    "print(getHCF(20, 15))"
   ]
  },
  {
   "cell_type": "markdown",
   "metadata": {},
   "source": [
    "__3. Write a Python Program to Convert Decimal to Binary, Octal and Hexadecimal?__"
   ]
  },
  {
   "cell_type": "code",
   "execution_count": 3,
   "metadata": {},
   "outputs": [
    {
     "name": "stdout",
     "output_type": "stream",
     "text": [
      "The decimal value of 20 is:\n",
      "0b10100 in binary.\n",
      "0o24 in octal.\n",
      "0x14 in hexadecimal.\n"
     ]
    }
   ],
   "source": [
    "# Python program to convert decimal into other number systems\n",
    "dec = 20\n",
    "\n",
    "print(\"The decimal value of\", dec, \"is:\")\n",
    "print(bin(dec), \"in binary.\")\n",
    "print(oct(dec), \"in octal.\")\n",
    "print(hex(dec), \"in hexadecimal.\")"
   ]
  },
  {
   "cell_type": "markdown",
   "metadata": {},
   "source": [
    "__4. Write a Python Program To Find ASCII value of a character?__"
   ]
  },
  {
   "cell_type": "code",
   "execution_count": 4,
   "metadata": {},
   "outputs": [
    {
     "name": "stdout",
     "output_type": "stream",
     "text": [
      "Enter any character: h\n",
      "The ASCII value of 'h' is 104\n"
     ]
    }
   ],
   "source": [
    "char = input('Enter any character: ')\n",
    "if len(char)==1:\n",
    "    print(\"The ASCII value of '\" + char + \"' is\", ord(char))\n",
    "else:\n",
    "    print('Please enter a valid character.')"
   ]
  },
  {
   "cell_type": "markdown",
   "metadata": {},
   "source": [
    "__5. Write a Python Program to Make a Simple Calculator with 4 basic mathematical operations?__"
   ]
  },
  {
   "cell_type": "code",
   "execution_count": 5,
   "metadata": {},
   "outputs": [
    {
     "name": "stdout",
     "output_type": "stream",
     "text": [
      "Addition :  5\n",
      "Subtraction :  -1\n",
      "Multiplication :  6\n",
      "Division :  0.6666666666666666\n",
      "Integer Division :  0\n",
      "Power :  8\n"
     ]
    }
   ],
   "source": [
    "def calc(val1, val2, op):\n",
    "    if op == '+':\n",
    "        return val1+val2\n",
    "    elif op == '-':\n",
    "        return val1-val2\n",
    "    elif op == '*':\n",
    "        return val1*val2\n",
    "    elif op == '/':\n",
    "        return val1/val2\n",
    "    elif op == '//':\n",
    "        return val1//val2\n",
    "    elif op == '^':\n",
    "        return val1**val2\n",
    "    \n",
    "print('Addition : ', calc(2, 3, '+'))\n",
    "print('Subtraction : ', calc(2, 3, '-'))\n",
    "print('Multiplication : ', calc(2, 3, '*'))\n",
    "print('Division : ', calc(2, 3, '/'))\n",
    "print('Integer Division : ', calc(2, 3, '//'))\n",
    "print('Power : ', calc(2, 3, '^'))"
   ]
  },
  {
   "cell_type": "code",
   "execution_count": null,
   "metadata": {},
   "outputs": [],
   "source": []
  }
 ],
 "metadata": {
  "kernelspec": {
   "display_name": "Python 3",
   "language": "python",
   "name": "python3"
  },
  "language_info": {
   "codemirror_mode": {
    "name": "ipython",
    "version": 3
   },
   "file_extension": ".py",
   "mimetype": "text/x-python",
   "name": "python",
   "nbconvert_exporter": "python",
   "pygments_lexer": "ipython3",
   "version": "3.7.6"
  }
 },
 "nbformat": 4,
 "nbformat_minor": 4
}
